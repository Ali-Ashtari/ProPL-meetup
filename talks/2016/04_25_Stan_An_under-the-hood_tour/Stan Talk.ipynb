{
 "cells": [
  {
   "cell_type": "code",
   "execution_count": 1,
   "metadata": {
    "collapsed": false
   },
   "outputs": [
    {
     "name": "stdout",
     "output_type": "stream",
     "text": [
      "Populating the interactive namespace from numpy and matplotlib\n"
     ]
    }
   ],
   "source": [
    "%pylab inline\n",
    "\n",
    "import numpy as n\n",
    "import scipy as sp\n",
    "import pystan\n"
   ]
  },
  {
   "cell_type": "code",
   "execution_count": 2,
   "metadata": {
    "collapsed": false
   },
   "outputs": [],
   "source": [
    "model_code = \"\"\"\n",
    "data {\n",
    "  int<lower = 0> N;\n",
    "  int<lower = 0, upper = 1> y[N];\n",
    "}\n",
    "parameters {\n",
    "  real<lower = 0, upper = 1> theta;\n",
    "}\n",
    "model {\n",
    "  y ~ bernoulli(theta);  \n",
    "}\n",
    "\"\"\"\n",
    "\n",
    "sm = pystan.StanModel(model_code=model_code,model_name='bernoulli')"
   ]
  },
  {
   "cell_type": "code",
   "execution_count": 3,
   "metadata": {
    "collapsed": false
   },
   "outputs": [],
   "source": [
    "n.random.seed(0)\n",
    "\n",
    "theta = 0.65\n",
    "data = {}\n",
    "data['N'] = 1000\n",
    "data['y'] = n.require(n.random.rand(1000) < theta,dtype=n.int32)\n",
    "\n"
   ]
  },
  {
   "cell_type": "code",
   "execution_count": 4,
   "metadata": {
    "collapsed": false
   },
   "outputs": [
    {
     "name": "stdout",
     "output_type": "stream",
     "text": [
      "OrderedDict([(u'theta', array(0.6560001312988919))])\n"
     ]
    }
   ],
   "source": [
    "map_soln = sm.optimizing(data=data)\n",
    "print(map_soln)"
   ]
  },
  {
   "cell_type": "code",
   "execution_count": 5,
   "metadata": {
    "collapsed": false,
    "scrolled": false
   },
   "outputs": [
    {
     "name": "stdout",
     "output_type": "stream",
     "text": [
      "Inference for Stan model: bernoulli_1380e11a6c8b9c7fddb72f95376a4375.\n",
      "4 chains, each with iter=2000; warmup=1000; thin=1; \n",
      "post-warmup draws per chain=1000, total post-warmup draws=4000.\n",
      "\n",
      "        mean se_mean     sd   2.5%    25%    50%    75%  97.5%  n_eff   Rhat\n",
      "theta   0.66  5.1e-4   0.02   0.63   0.65   0.66   0.67   0.69  889.0    1.0\n",
      "lp__  -645.6    0.02   0.68 -647.6 -645.8 -645.3 -645.2 -645.1  841.0   1.01\n",
      "\n",
      "Samples were drawn using NUTS(diag_e) at Tue Apr 26 16:02:22 2016.\n",
      "For each parameter, n_eff is a crude measure of effective sample size,\n",
      "and Rhat is the potential scale reduction factor on split chains (at \n",
      "convergence, Rhat=1).\n"
     ]
    },
    {
     "data": {
      "image/png": "[encoded data removed]",
      "text/plain": [
       "<matplotlib.figure.Figure at 0x119d6e690>"
      ]
     },
     "metadata": {},
     "output_type": "display_data"
    }
   ],
   "source": [
    "mcmc_samples = sm.sampling(data=data)\n",
    "vals = mcmc_samples.extract()\n",
    "mcmc_samples.plot()\n",
    "print(mcmc_samples)\n"
   ]
  },
  {
   "cell_type": "code",
   "execution_count": null,
   "metadata": {
    "collapsed": true
   },
   "outputs": [],
   "source": []
  }
 ],
 "metadata": {
  "kernelspec": {
   "display_name": "Python 2",
   "language": "python",
   "name": "python2"
  },
  "language_info": {
   "codemirror_mode": {
    "name": "ipython",
    "version": 2
   },
   "file_extension": ".py",
   "mimetype": "text/x-python",
   "name": "python",
   "nbconvert_exporter": "python",
   "pygments_lexer": "ipython2",
   "version": "2.7.11"
  }
 },
 "nbformat": 4,
 "nbformat_minor": 0
}
