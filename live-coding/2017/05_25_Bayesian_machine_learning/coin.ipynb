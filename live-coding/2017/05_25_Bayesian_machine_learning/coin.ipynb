{
 "cells": [
  {
   "cell_type": "code",
   "execution_count": null,
   "metadata": {},
   "outputs": [],
   "source": [
    "%matplotlib inline\n",
    "from __future__ import absolute_import\n",
    "from __future__ import division\n",
    "from __future__ import print_function\n",
    "\n",
    "import edward as ed\n",
    "import matplotlib.pyplot as plt\n",
    "import matplotlib.cm as cm\n",
    "from matplotlib.colors import ListedColormap, Normalize\n",
    "from tempfile import NamedTemporaryFile\n",
    "import seaborn as sns\n",
    "import numpy as np\n",
    "import six\n",
    "import tensorflow as tf\n",
    "\n",
    "plt.style.use('seaborn-talk')\n",
    "sns.set_context(\"talk\", font_scale=1.4)\n",
    "sess = ed.get_session()\n",
    "\n",
    "sns.palplot(sns.color_palette())"
   ]
  },
  {
   "cell_type": "code",
   "execution_count": null,
   "metadata": {
    "collapsed": true
   },
   "outputs": [],
   "source": [
    "# this can be done only before using Edward\n",
    "ed.set_seed(42)"
   ]
  },
  {
   "cell_type": "markdown",
   "metadata": {},
   "source": [
    "# Coin"
   ]
  },
  {
   "cell_type": "code",
   "execution_count": null,
   "metadata": {
    "collapsed": true
   },
   "outputs": [],
   "source": [
    "from edward.models import Bernoulli, Beta, Empirical, Uniform"
   ]
  },
  {
   "cell_type": "code",
   "execution_count": null,
   "metadata": {
    "collapsed": true
   },
   "outputs": [],
   "source": [
    "N = 100  # number of coin flip observations in dataset"
   ]
  },
  {
   "cell_type": "code",
   "execution_count": null,
   "metadata": {
    "collapsed": true
   },
   "outputs": [],
   "source": [
    "def build_fair_dataset(N):\n",
    "    pheads = tf.constant(0.5)\n",
    "    c = Bernoulli(probs=pheads, sample_shape=N)\n",
    "    return sess.run([pheads, c])"
   ]
  },
  {
   "cell_type": "code",
   "execution_count": null,
   "metadata": {
    "collapsed": true
   },
   "outputs": [],
   "source": [
    "def build_unfair_dataset(N):\n",
    "    pheads = tf.constant(0.05)\n",
    "    c = Bernoulli(probs=pheads, sample_shape=N)\n",
    "    return sess.run([pheads, c])"
   ]
  },
  {
   "cell_type": "code",
   "execution_count": null,
   "metadata": {
    "collapsed": true
   },
   "outputs": [],
   "source": [
    "def build_dataset(N):\n",
    "    pheads = Uniform(low=0.0, high=1.0)\n",
    "    c = Bernoulli(probs=pheads, sample_shape=N)\n",
    "    return sess.run([pheads, c])"
   ]
  },
  {
   "cell_type": "code",
   "execution_count": null,
   "metadata": {
    "collapsed": true
   },
   "outputs": [],
   "source": [
    "x = tf.range(-0.2, 1.2, 0.001)\n",
    "plt.plot(*sess.run([x, Uniform(low=0.0, high=1.0).prob(x)]));\n",
    "#plt.plot(*sess.run([x, Beta(concentration1=1.0, concentration0=1.0).prob(x)]));\n",
    "plt.ylim((-0.2, 1.2));"
   ]
  },
  {
   "cell_type": "code",
   "execution_count": null,
   "metadata": {
    "collapsed": true
   },
   "outputs": [],
   "source": [
    "# DATA\n",
    "pheads_true, c_train = build_dataset(N)"
   ]
  },
  {
   "cell_type": "code",
   "execution_count": null,
   "metadata": {
    "collapsed": true
   },
   "outputs": [],
   "source": [
    "pheads_true"
   ]
  },
  {
   "cell_type": "code",
   "execution_count": null,
   "metadata": {
    "collapsed": true
   },
   "outputs": [],
   "source": [
    "c_train"
   ]
  },
  {
   "cell_type": "code",
   "execution_count": null,
   "metadata": {
    "collapsed": true
   },
   "outputs": [],
   "source": [
    "sum(c_train == 0)"
   ]
  },
  {
   "cell_type": "code",
   "execution_count": null,
   "metadata": {
    "collapsed": true
   },
   "outputs": [],
   "source": [
    "sum(c_train == 1)"
   ]
  },
  {
   "cell_type": "code",
   "execution_count": null,
   "metadata": {
    "collapsed": true
   },
   "outputs": [],
   "source": []
  },
  {
   "cell_type": "code",
   "execution_count": null,
   "metadata": {
    "collapsed": true
   },
   "outputs": [],
   "source": [
    "pheads_fair = Beta(concentration1=1000.0, concentration0=1000.0)  # blue\n",
    "pheads_unfair = Beta(concentration1=0.1, concentration0=0.1)  # green\n",
    "# pheads_unknown = Uniform(low=0.0, high=1.0)  # red\n",
    "pheads_unknown = Beta(concentration1=1.0, concentration0=1.0)  # red"
   ]
  },
  {
   "cell_type": "code",
   "execution_count": null,
   "metadata": {
    "collapsed": true
   },
   "outputs": [],
   "source": [
    "x = tf.range(0.0, 1.0, 0.001)\n",
    "plt.plot(*sess.run([x, pheads_fair.prob(x)]));\n",
    "plt.plot(*sess.run([x, pheads_unfair.prob(x)]));\n",
    "plt.plot(*sess.run([x, pheads_unknown.prob(x)]));\n",
    "plt.axvline(x=pheads_true);"
   ]
  },
  {
   "cell_type": "code",
   "execution_count": null,
   "metadata": {
    "collapsed": true
   },
   "outputs": [],
   "source": [
    "# FORWARD MODEL\n",
    "pheads = pheads_unknown\n",
    "c = Bernoulli(probs=pheads, sample_shape=N)"
   ]
  },
  {
   "cell_type": "markdown",
   "metadata": {},
   "source": [
    "#### Exact Solution"
   ]
  },
  {
   "cell_type": "code",
   "execution_count": null,
   "metadata": {
    "collapsed": true
   },
   "outputs": [],
   "source": [
    "sess.run({key: val for\n",
    "          key, val in six.iteritems(pheads_post.parameters)\n",
    "          if isinstance(val, tf.Tensor)})"
   ]
  },
  {
   "cell_type": "code",
   "execution_count": null,
   "metadata": {
    "collapsed": true
   },
   "outputs": [],
   "source": [
    "# CRITICISM\n",
    "mean, stddev = sess.run([pheads_post.mean(), pheads_post.stddev()])\n",
    "print(\"Exact posterior mean:\")\n",
    "print(mean)\n",
    "print(\"Exact posterior std:\")\n",
    "print(stddev)"
   ]
  },
  {
   "cell_type": "code",
   "execution_count": null,
   "metadata": {
    "collapsed": true
   },
   "outputs": [],
   "source": [
    "x = tf.range(0.0, 1.0, 0.001)\n",
    "plt.plot(*sess.run([x, pheads.prob(x)]));  # blue\n",
    "plt.plot(*sess.run([x, pheads_post.prob(x)]));  # green\n",
    "plt.axvline(x=pheads_true);  # blue"
   ]
  },
  {
   "cell_type": "code",
   "execution_count": null,
   "metadata": {
    "collapsed": true
   },
   "outputs": [],
   "source": [
    "# this can take a minute\n",
    "fig = plt.figure()\n",
    "ax = plt.axes(xlim=(-0.05, 1.05), ylim=(-1.0, 11.0))\n",
    "\n",
    "def go(pheads_prior, sample_shape, c_train):\n",
    "    # MODEL\n",
    "    c = Bernoulli(probs=pheads_prior,\n",
    "                  sample_shape=sample_shape)\n",
    "    # INFERENCE\n",
    "    pheads_cond = ed.complete_conditional(pheads_prior)\n",
    "    pheads_post = ed.copy(pheads_cond, {c: c_train[:sample_shape]})\n",
    "    \n",
    "    # CRITICISM\n",
    "    ax.plot(*sess.run([x, pheads_post.prob(x)]));\n",
    "    \n",
    "    # RECURSION\n",
    "    if len(c_train[sample_shape:]) >= sample_shape:\n",
    "        go(pheads_post, sample_shape, c_train[sample_shape:])\n",
    "\n",
    "pheads_prior = Beta(concentration1=1.0, concentration0=1.0)\n",
    "ax.plot(*sess.run([x, pheads_prior.prob(x)]));  # blue\n",
    "plt.axvline(x=pheads_true);  # blue\n",
    "go(pheads_prior, 33, c_train)"
   ]
  }
 ],
 "metadata": {
  "kernelspec": {
   "display_name": "Python 2 (PyCon)",
   "language": "python",
   "name": "python2_pycon"
  },
  "language_info": {
   "codemirror_mode": {
    "name": "ipython",
    "version": 2
   },
   "file_extension": ".py",
   "mimetype": "text/x-python",
   "name": "python",
   "nbconvert_exporter": "python",
   "pygments_lexer": "ipython2",
   "version": "2.7.13"
  }
 },
 "nbformat": 4,
 "nbformat_minor": 2
}
